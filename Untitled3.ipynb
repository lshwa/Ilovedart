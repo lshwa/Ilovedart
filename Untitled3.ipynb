{
 "cells": [
  {
   "cell_type": "code",
   "execution_count": 317,
   "id": "d32960ac-9343-475b-870b-af6bb76a4844",
   "metadata": {},
   "outputs": [],
   "source": [
    "import matplotlib.pyplot as plt\n",
    "import matplotlib as mpl\n",
    "\n",
    "plt.rcParams['font.family'] = 'AppleGothic'\n",
    "mpl.rcParams['axes.unicode_minus'] = False"
   ]
  },
  {
   "cell_type": "code",
   "execution_count": 318,
   "id": "1a88b9ec-2a0a-4e5a-903a-b5c8615cb85e",
   "metadata": {},
   "outputs": [],
   "source": [
    "import pandas as pd\n",
    "\n",
    "file_1 = pd.read_csv(\"train.csv\")\n",
    "file_2 = pd.read_csv(\"test.csv\")"
   ]
  },
  {
   "cell_type": "code",
   "execution_count": 319,
   "id": "59ed9ed3-d310-4049-b7c7-61bd01c90bb7",
   "metadata": {},
   "outputs": [
    {
     "data": {
      "text/plain": [
       "fraud\n",
       "0    692230\n",
       "1      7770\n",
       "Name: count, dtype: int64"
      ]
     },
     "execution_count": 319,
     "metadata": {},
     "output_type": "execute_result"
    }
   ],
   "source": [
    "# 사기 여부 분포 확인\n",
    "file_1['fraud'].value_counts()"
   ]
  },
  {
   "cell_type": "code",
   "execution_count": 320,
   "id": "ea6e0270-9a98-4cac-bb2c-eb6a0efe1a54",
   "metadata": {},
   "outputs": [],
   "source": [
    "# 타겟값 'fraud' 분리\n",
    "X = file_1.drop(['fraud'], axis=1)\n",
    "y = file_1['fraud']"
   ]
  },
  {
   "cell_type": "code",
   "execution_count": 321,
   "id": "cdcb2a2d-b944-4d84-81e4-a9fdec2a1f2f",
   "metadata": {},
   "outputs": [],
   "source": [
    "# (0~5: 학습, 6~7: 테스트)\n",
    "X_train = X[X['month'] < 6].copy()\n",
    "X_test = X[X['month'] >= 6].copy()\n",
    "y_train = y[X['month'] < 6]\n",
    "y_test = y[X['month'] >= 6]\n",
    "\n",
    "# 'month' 컬럼 제거\n",
    "X_train.drop(columns=['month'], inplace=True)\n",
    "X_test.drop(columns=['month'], inplace=True)"
   ]
  },
  {
   "cell_type": "code",
   "execution_count": 322,
   "id": "1b6262a3-103a-4442-9c81-19c6aafaef9f",
   "metadata": {},
   "outputs": [],
   "source": [
    "from sklearn.preprocessing import OneHotEncoder\n",
    "\n",
    "# object 타입인 범주형 컬럼 추출\n",
    "cat_cols = X_train.select_dtypes(include='object').columns.tolist()\n",
    "\n",
    "# 원-핫 인코딩 수행\n",
    "ohe = OneHotEncoder(sparse_output=False, handle_unknown='ignore')\n",
    "ohe_train = pd.DataFrame(ohe.fit_transform(X_train[cat_cols]), index=X_train.index)\n",
    "ohe_test = pd.DataFrame(ohe.transform(X_test[cat_cols]), index=X_test.index)\n",
    "\n",
    "# 범주형 컬럼 제거\n",
    "X_train_num = X_train.drop(columns=cat_cols)\n",
    "X_test_num = X_test.drop(columns=cat_cols)\n",
    "\n",
    "# 숫자형 + 인코딩된 범주형 데이터 병합\n",
    "X_train_enc = pd.concat([X_train_num, ohe_train], axis=1)\n",
    "X_test_enc = pd.concat([X_test_num, ohe_test], axis=1)\n",
    "\n",
    "# 컬럼명 문자열로 통일\n",
    "X_train_enc.columns = X_train_enc.columns.astype(str)\n",
    "X_test_enc.columns = X_test_enc.columns.astype(str)"
   ]
  },
  {
   "cell_type": "code",
   "execution_count": 323,
   "id": "15bb9e1f-1148-441a-89b8-243564f90050",
   "metadata": {},
   "outputs": [],
   "source": [
    "# 스케일링 전에 적용\n",
    "from sklearn.impute import SimpleImputer\n",
    "\n",
    "# 수치형 데이터에 대해 평균으로 결측치 대체\n",
    "imputer = SimpleImputer(strategy='mean')\n",
    "X_train_enc = pd.DataFrame(imputer.fit_transform(X_train_enc), columns=X_train_enc.columns, index=X_train_enc.index)\n",
    "X_test_enc = pd.DataFrame(imputer.transform(X_test_enc), columns=X_test_enc.columns, index=X_test_enc.index)\n",
    "\n",
    "# 이후 스케일링 재적용\n",
    "from sklearn.preprocessing import StandardScaler\n",
    "\n",
    "scaler = StandardScaler()\n",
    "X_train_scaled = scaler.fit_transform(X_train_enc)\n",
    "X_test_scaled = scaler.transform(X_test_enc)"
   ]
  },
  {
   "cell_type": "code",
   "execution_count": 324,
   "id": "b74b6cdc-2f69-476e-83ec-c84c210c3da7",
   "metadata": {},
   "outputs": [],
   "source": [
    "from sklearn.preprocessing import StandardScaler\n",
    "\n",
    "scaler = StandardScaler()\n",
    "X_train_scaled = scaler.fit_transform(X_train_enc)\n",
    "X_test_scaled = scaler.transform(X_test_enc)"
   ]
  },
  {
   "cell_type": "code",
   "execution_count": 325,
   "id": "06b9f4f2-a1f2-4747-9e2d-68146adf393d",
   "metadata": {},
   "outputs": [],
   "source": [
    "# 'customer_age' 기준 그룹핑 (50세 초과 여부)\n",
    "test_df = file_1[file_1[\"month\"] >= 6]\n",
    "labels = test_df[\"fraud\"]\n",
    "groups = (test_df[\"customer_age\"] > 50).map({True: \">50\", False: \"<=50\"})"
   ]
  },
  {
   "cell_type": "code",
   "execution_count": 326,
   "id": "961989bc-6ffb-4fc5-b7fb-378026bd8636",
   "metadata": {},
   "outputs": [],
   "source": [
    "from sklearn.metrics import roc_curve, roc_auc_score\n",
    "import matplotlib.pyplot as plt\n",
    "\n",
    "def plot_roc(fpr, tpr):\n",
    "    plt.plot(fpr, tpr, label='ROC curve')\n",
    "    plt.xlabel('False Positive Rate')\n",
    "    plt.ylabel('True Positive Rate')\n",
    "    plt.title('ROC curve')\n",
    "    plt.legend()\n",
    "    plt.grid(True)\n",
    "    plt.show()\n",
    "\n",
    "def evaluate(predictions, y_true, FIXED_FPR=0.05):\n",
    "    fprs, tprs, thresholds = roc_curve(y_true, predictions)\n",
    "    plot_roc(fprs, tprs)\n",
    "    \n",
    "    # 특정 FPR 이하에서의 TPR, Threshold\n",
    "    idx = np.where(fprs < FIXED_FPR)[0][-1]\n",
    "    tpr = tprs[idx]\n",
    "    fpr = fprs[idx]\n",
    "    threshold = thresholds[idx]\n",
    "\n",
    "    print(\"AUC:\", roc_auc_score(y_true, predictions))\n",
    "    to_pct = lambda x: str(round(x, 4) * 100) + \"%\"\n",
    "    print(\"TPR: \", to_pct(tpr))\n",
    "    print(\"FPR: \", to_pct(fpr))\n",
    "    print(\"Threshold: \", round(threshold, 4))"
   ]
  },
  {
   "cell_type": "code",
   "execution_count": 327,
   "id": "22769067-6be7-4a29-9393-b535c60fe73f",
   "metadata": {},
   "outputs": [
    {
     "data": {
      "image/png": "[encoded data removed]",
      "text/plain": [
       "<Figure size 640x480 with 1 Axes>"
      ]
     },
     "metadata": {},
     "output_type": "display_data"
    },
    {
     "name": "stdout",
     "output_type": "stream",
     "text": [
      "AUC: 0.8765691111313041\n",
      "TPR:  49.45%\n",
      "FPR:  5.0%\n",
      "Threshold:  0.7661\n"
     ]
    }
   ],
   "source": [
    "import numpy as np\n",
    "from sklearn.linear_model import LogisticRegression\n",
    "\n",
    "lr_model = LogisticRegression(class_weight='balanced', max_iter=1000)\n",
    "lr_model.fit(X_train_scaled, y_train)\n",
    "\n",
    "preds_lr = lr_model.predict_proba(X_test_scaled)[:, 1]\n",
    "evaluate(preds_lr, y_test)"
   ]
  },
  {
   "cell_type": "code",
   "execution_count": 328,
   "id": "e8687fac-2871-4720-b839-675ae5d364db",
   "metadata": {},
   "outputs": [
    {
     "name": "stdout",
     "output_type": "stream",
     "text": [
      "<class 'pandas.core.frame.DataFrame'>\n",
      "RangeIndex: 300000 entries, 0 to 299999\n",
      "Data columns (total 32 columns):\n",
      " #   Column                            Non-Null Count   Dtype  \n",
      "---  ------                            --------------   -----  \n",
      " 0   id                                300000 non-null  int64  \n",
      " 1   bank_months_count                 223966 non-null  float64\n",
      " 2   branch_application_count_8weeks   300000 non-null  float64\n",
      " 3   credit_risk_score                 300000 non-null  int64  \n",
      " 4   current_address_months_count      298722 non-null  float64\n",
      " 5   customer_age                      300000 non-null  int64  \n",
      " 6   date_of_birth_distinct_emails_4w  300000 non-null  int64  \n",
      " 7   days_since_request                300000 non-null  float64\n",
      " 8   device_distinct_emails_8w         299891 non-null  float64\n",
      " 9   device_os                         300000 non-null  object \n",
      " 10  device_previously_fraudulent      300000 non-null  float64\n",
      " 11  email_is_free                     300000 non-null  bool   \n",
      " 12  employment_status                 300000 non-null  object \n",
      " 13  foreign_request                   300000 non-null  bool   \n",
      " 14  has_other_cards                   300000 non-null  bool   \n",
      " 15  housing_status                    300000 non-null  object \n",
      " 16  income                            300000 non-null  float64\n",
      " 17  initial_transfer_amount           77127 non-null   float64\n",
      " 18  keep_alive_session                300000 non-null  bool   \n",
      " 19  month                             300000 non-null  int64  \n",
      " 20  name_email_similarity             300000 non-null  float64\n",
      " 21  payment_type                      300000 non-null  object \n",
      " 22  phone_home_valid                  300000 non-null  bool   \n",
      " 23  phone_mobile_valid                300000 non-null  bool   \n",
      " 24  prev_address_months_count         86076 non-null   float64\n",
      " 25  requested_credit_limit            300000 non-null  float64\n",
      " 26  session_length_in_minutes         299399 non-null  float64\n",
      " 27  source                            300000 non-null  object \n",
      " 28  velocity_24h                      300000 non-null  float64\n",
      " 29  velocity_4w                       300000 non-null  float64\n",
      " 30  velocity_6h                       300000 non-null  float64\n",
      " 31  zip_count_4w                      300000 non-null  int64  \n",
      "dtypes: bool(6), float64(15), int64(6), object(5)\n",
      "memory usage: 61.2+ MB\n"
     ]
    }
   ],
   "source": [
    "file_2.info()"
   ]
  },
  {
   "cell_type": "code",
   "execution_count": 329,
   "id": "efaaca98-41f6-4df2-9bf6-0ec7d170ea89",
   "metadata": {},
   "outputs": [
    {
     "name": "stdout",
     "output_type": "stream",
     "text": [
      "🔎 사기 예측 건수: 5857 / 300000\n",
      "📉 예측 비율 (threshold=0.9): 1.9523%\n"
     ]
    }
   ],
   "source": [
    "# 1. test.csv 불러오기\n",
    "test_df = file_2.copy()\n",
    "test_ids = test_df[\"id\"]  # 제출에 필요한 id\n",
    "test_X = test_df.drop(columns=[\"id\", \"month\"])  # 학습 시 제거했던 컬럼 동일하게 제거\n",
    "\n",
    "# 2. 범주형 인코딩\n",
    "test_ohe = pd.DataFrame(ohe.transform(test_X[cat_cols]), index=test_X.index)\n",
    "test_num = test_X.drop(columns=cat_cols)\n",
    "test_enc = pd.concat([test_num, test_ohe], axis=1)\n",
    "test_enc.columns = test_enc.columns.astype(str)\n",
    "\n",
    "# 3. 학습 시 컬럼 순서에 맞추기 (컬럼 누락 대응)\n",
    "test_enc = test_enc.reindex(columns=X_train_enc.columns, fill_value=0)\n",
    "\n",
    "# 4. 결측치 대체\n",
    "test_filled = pd.DataFrame(imputer.transform(test_enc),\n",
    "                           columns=test_enc.columns,\n",
    "                           index=test_enc.index)\n",
    "\n",
    "# 5. 스케일링\n",
    "test_scaled = scaler.transform(test_filled)\n",
    "\n",
    "# 6. 예측 (threshold 조정)\n",
    "threshold = 0.9  # 예: 더 보수적으로 사기 판단\n",
    "test_preds = (test_probs >= threshold).astype(int)\n",
    "\n",
    "# 7. 결과 저장\n",
    "submission = pd.DataFrame({\n",
    "    \"id\": test_ids,\n",
    "    \"fraud\": test_preds\n",
    "})\n",
    "submission.to_csv(\"submission.csv\", index=False)\n",
    "\n",
    "# 간단한 통계 출력\n",
    "fraud_ratio = test_preds.sum() / len(test_preds) * 100\n",
    "print(f\"🔎 사기 예측 건수: {test_preds.sum()} / {len(test_preds)}\")\n",
    "print(f\"📉 예측 비율 (threshold={threshold}): {fraud_ratio:.4f}%\")"
   ]
  },
  {
   "cell_type": "code",
   "execution_count": 330,
   "id": "02e986b4-bf98-4ee1-a03e-6addd0ded1e0",
   "metadata": {},
   "outputs": [
    {
     "name": "stdout",
     "output_type": "stream",
     "text": [
      "✅ 전체 예측 건수: 300000건\n",
      "🛑 사기로 예측한 건수 (fraud=1): 5857건\n",
      "📊 사기 예측 비율: 1.9523%\n"
     ]
    }
   ],
   "source": [
    "import pandas as pd\n",
    "\n",
    "# 제출 파일 불러오기\n",
    "submission = pd.read_csv(\"submission.csv\")\n",
    "\n",
    "# 전체 건수\n",
    "total = len(submission)\n",
    "\n",
    "# fraud=1 개수\n",
    "fraud_count = submission['fraud'].sum()\n",
    "\n",
    "# 비율 계산\n",
    "fraud_ratio = fraud_count / total * 100\n",
    "\n",
    "# 출력\n",
    "print(f\"✅ 전체 예측 건수: {total}건\")\n",
    "print(f\"🛑 사기로 예측한 건수 (fraud=1): {fraud_count}건\")\n",
    "print(f\"📊 사기 예측 비율: {fraud_ratio:.4f}%\")"
   ]
  },
  {
   "cell_type": "code",
   "execution_count": 331,
   "id": "2b0f0e7d-2c58-40bf-a926-7b58f77285f3",
   "metadata": {},
   "outputs": [
    {
     "name": "stderr",
     "output_type": "stream",
     "text": [
      "/opt/anaconda3/lib/python3.12/site-packages/xgboost/training.py:183: UserWarning: [16:11:06] WARNING: /Users/runner/work/xgboost/xgboost/src/learner.cc:738: \n",
      "Parameters: { \"use_label_encoder\" } are not used.\n",
      "\n",
      "  bst.update(dtrain, iteration=i, fobj=obj)\n"
     ]
    },
    {
     "data": {
      "image/png": "[encoded data removed]",
      "text/plain": [
       "<Figure size 640x480 with 1 Axes>"
      ]
     },
     "metadata": {},
     "output_type": "display_data"
    },
    {
     "name": "stdout",
     "output_type": "stream",
     "text": [
      "AUC: 0.8513513935661084\n",
      "TPR:  43.120000000000005%\n",
      "FPR:  5.0%\n",
      "Threshold:  0.6791\n"
     ]
    }
   ],
   "source": [
    "from xgboost import XGBClassifier\n",
    "\n",
    "# 클래스 불균형 보정용 weight 계산\n",
    "scale_weight = np.sum(y_train == 0) / np.sum(y_train == 1)\n",
    "\n",
    "xgb_model = XGBClassifier(\n",
    "    use_label_encoder=False,\n",
    "    eval_metric='logloss',\n",
    "    scale_pos_weight=scale_weight,\n",
    "    random_state=42\n",
    ")\n",
    "\n",
    "xgb_model.fit(X_train_scaled, y_train)\n",
    "\n",
    "# 예측\n",
    "xgb_probs = xgb_model.predict_proba(X_test_scaled)[:, 1]\n",
    "evaluate(xgb_probs, y_test)"
   ]
  },
  {
   "cell_type": "code",
   "execution_count": 332,
   "id": "17ae9282-9d3b-4299-b2fe-7ee32e38ba8c",
   "metadata": {},
   "outputs": [
    {
     "name": "stdout",
     "output_type": "stream",
     "text": [
      "Requirement already satisfied: xgboost in /opt/anaconda3/lib/python3.12/site-packages (3.0.0)\n",
      "Requirement already satisfied: numpy in /opt/anaconda3/lib/python3.12/site-packages (from xgboost) (1.26.4)\n",
      "Requirement already satisfied: scipy in /opt/anaconda3/lib/python3.12/site-packages (from xgboost) (1.13.1)\n"
     ]
    }
   ],
   "source": [
    "!pip install xgboost"
   ]
  },
  {
   "cell_type": "code",
   "execution_count": 333,
   "id": "36cab78d-a883-40cb-a71d-3e7e05f442e6",
   "metadata": {},
   "outputs": [
    {
     "data": {
      "image/png": "[encoded data removed]",
      "text/plain": [
       "<Figure size 640x480 with 1 Axes>"
      ]
     },
     "metadata": {},
     "output_type": "display_data"
    },
    {
     "name": "stdout",
     "output_type": "stream",
     "text": [
      "AUC: 0.8847443436515842\n",
      "TPR:  50.949999999999996%\n",
      "FPR:  4.99%\n",
      "Threshold:  0.7981\n"
     ]
    }
   ],
   "source": [
    "import lightgbm as lgb\n",
    "\n",
    "lgb_model = lgb.LGBMClassifier(\n",
    "    objective='binary',\n",
    "    metric='auc',\n",
    "    scale_pos_weight=90,\n",
    "    n_estimators=300,\n",
    "    learning_rate=0.05,\n",
    "    random_state=42\n",
    ")\n",
    "\n",
    "lgb_model.fit(X_train_scaled, y_train)\n",
    "probs_lgb = lgb_model.predict_proba(X_test_scaled)[:, 1]\n",
    "evaluate(probs_lgb, y_test)"
   ]
  },
  {
   "cell_type": "code",
   "execution_count": 375,
   "id": "88f261fc-b86f-4605-a0a2-83f3056bb803",
   "metadata": {},
   "outputs": [
    {
     "name": "stdout",
     "output_type": "stream",
     "text": [
      "✅ 전체 예측 건수: 300000\n",
      "🛑 사기로 예측한 건수 (fraud=1): 1200\n",
      "📊 사기 예측 비율: 0.4 %\n"
     ]
    }
   ],
   "source": [
    "import lightgbm as lgb\n",
    "import pandas as pd\n",
    "import numpy as np\n",
    "from sklearn.impute import SimpleImputer\n",
    "from sklearn.preprocessing import OneHotEncoder, StandardScaler\n",
    "\n",
    "# 1. train.csv & test.csv 불러오기\n",
    "train_df = pd.read_csv(\"train.csv\")\n",
    "test_df = pd.read_csv(\"test.csv\")\n",
    "\n",
    "# 2. 타겟 분리\n",
    "X = train_df.drop(columns=[\"fraud\"])\n",
    "y = train_df[\"fraud\"]\n",
    "\n",
    "# 3. Train/Test split (month 기준)\n",
    "X_train = X[X[\"month\"] < 6].drop(columns=[\"month\"])\n",
    "y_train = y[X[\"month\"] < 6]\n",
    "\n",
    "# 4. 제출용 test2 데이터셋 준비\n",
    "test_ids = test_df[\"id\"]\n",
    "X_submit = test_df.drop(columns=[\"id\", \"month\"])\n",
    "\n",
    "# 5. 범주형 인코딩\n",
    "cat_cols = X_train.select_dtypes(include=\"object\").columns.tolist()\n",
    "ohe = OneHotEncoder(sparse_output=False, handle_unknown='ignore')\n",
    "X_train_ohe = pd.DataFrame(ohe.fit_transform(X_train[cat_cols]), index=X_train.index)\n",
    "X_submit_ohe = pd.DataFrame(ohe.transform(X_submit[cat_cols]), index=X_submit.index)\n",
    "\n",
    "X_train_num = X_train.drop(columns=cat_cols)\n",
    "X_submit_num = X_submit.drop(columns=cat_cols)\n",
    "\n",
    "X_train_enc = pd.concat([X_train_num, X_train_ohe], axis=1)\n",
    "X_submit_enc = pd.concat([X_submit_num, X_submit_ohe], axis=1)\n",
    "X_train_enc.columns = X_train_enc.columns.astype(str)\n",
    "X_submit_enc.columns = X_submit_enc.columns.astype(str)\n",
    "\n",
    "# 누락 컬럼 대응\n",
    "X_submit_enc = X_submit_enc.reindex(columns=X_train_enc.columns, fill_value=0)\n",
    "\n",
    "# 6. 결측치 처리\n",
    "imputer = SimpleImputer(strategy='mean')\n",
    "X_train_filled = pd.DataFrame(imputer.fit_transform(X_train_enc), columns=X_train_enc.columns)\n",
    "X_submit_filled = pd.DataFrame(imputer.transform(X_submit_enc), columns=X_submit_enc.columns)\n",
    "\n",
    "# 7. 스케일링\n",
    "scaler = StandardScaler()\n",
    "X_train_scaled = scaler.fit_transform(X_train_filled)\n",
    "X_submit_scaled = scaler.transform(X_submit_filled)\n",
    "\n",
    "# 8. 모델 학습 (LightGBM)\n",
    "lgb_model = lgb.LGBMClassifier(\n",
    "    objective='binary',\n",
    "    metric='auc',\n",
    "    scale_pos_weight=90,\n",
    "    n_estimators=300,\n",
    "    learning_rate=0.05,\n",
    "    random_state=42\n",
    ")\n",
    "lgb_model.fit(X_train_scaled, y_train)\n",
    "\n",
    "# 9. 예측 확률 얻기\n",
    "submit_probs = lgb_model.predict_proba(X_submit_scaled)[:, 1]\n",
    "\n",
    "# 10. Top-N 방식 사기 예측 (ex: 상위 1200개만 사기로 간주)\n",
    "top_n = 1200\n",
    "submit_preds = np.zeros_like(submit_probs, dtype=int)\n",
    "submit_preds[np.argsort(submit_probs)[-top_n:]] = 1\n",
    "\n",
    "# 11. 저장\n",
    "submission = pd.DataFrame({\n",
    "    \"id\": test_ids,\n",
    "    \"fraud\": submit_preds\n",
    "})\n",
    "submission.to_csv(\"submission_lgb_top1200.csv\", index=False)\n",
    "\n",
    "# 12. 통계 확인\n",
    "print(\"✅ 전체 예측 건수:\", len(submit_preds))\n",
    "print(\"🛑 사기로 예측한 건수 (fraud=1):\", submit_preds.sum())\n",
    "print(\"📊 사기 예측 비율:\", round(submit_preds.mean() * 100, 4), \"%\")"
   ]
  },
  {
   "cell_type": "code",
   "execution_count": 377,
   "id": "15baa36d-63f2-4cf9-a68a-4eee711a8f18",
   "metadata": {},
   "outputs": [
    {
     "name": "stdout",
     "output_type": "stream",
     "text": [
      "📁 Top-1000 기준 파일 저장 완료 → submission_lgb_top1000.csv\n",
      "✅ 전체 예측 건수: 300000\n",
      "🛑 사기로 예측한 건수 (fraud=1): 1000\n",
      "📊 사기 예측 비율: 0.3333 %\n",
      "----------------------------------------\n",
      "📁 Top-1500 기준 파일 저장 완료 → submission_lgb_top1500.csv\n",
      "✅ 전체 예측 건수: 300000\n",
      "🛑 사기로 예측한 건수 (fraud=1): 1500\n",
      "📊 사기 예측 비율: 0.5 %\n",
      "----------------------------------------\n"
     ]
    }
   ],
   "source": [
    "# 1. Top-K 방식으로 사기 예측 조정\n",
    "for top_k in [1000, 1500]:\n",
    "    top_k_indices = np.argsort(submit_probs)[-top_k:]  # 상위 확률 K개 인덱스\n",
    "\n",
    "    top_k_preds = np.zeros_like(submit_probs, dtype=int)\n",
    "    top_k_preds[top_k_indices] = 1  # 상위 K개만 1로 설정\n",
    "\n",
    "    # 2. 제출 파일 생성\n",
    "    submission_topk = pd.DataFrame({\n",
    "        \"id\": test_ids,\n",
    "        \"fraud\": top_k_preds\n",
    "    })\n",
    "    submission_topk.to_csv(f\"submission_lgb_top{top_k}.csv\", index=False)\n",
    "\n",
    "    # 3. 통계 출력\n",
    "    print(f\"📁 Top-{top_k} 기준 파일 저장 완료 → submission_lgb_top{top_k}.csv\")\n",
    "    print(\"✅ 전체 예측 건수:\", len(top_k_preds))\n",
    "    print(\"🛑 사기로 예측한 건수 (fraud=1):\", top_k_preds.sum())\n",
    "    print(\"📊 사기 예측 비율:\", round(top_k_preds.mean() * 100, 4), \"%\")\n",
    "    print(\"-\" * 40)"
   ]
  },
  {
   "cell_type": "code",
   "execution_count": 379,
   "id": "69f6d0b6-21a6-4df4-936e-2e6797f0f90c",
   "metadata": {},
   "outputs": [
    {
     "name": "stdout",
     "output_type": "stream",
     "text": [
      "📊 AP Score (Top-1000): 0.05874\n",
      "📊 AP Score (Top-1500): 0.06594\n"
     ]
    }
   ],
   "source": [
    "from sklearn.metrics import average_precision_score\n",
    "import numpy as np\n",
    "\n",
    "# 검증 데이터에 대한 예측 확률 (LightGBM 등에서 나온 확률)\n",
    "# 예: valid_probs = lgb_model.predict_proba(X_test_scaled)[:, 1]\n",
    "# 예: y_test = 실제 검증용 레이블 (fraud)\n",
    "\n",
    "# AP 계산 함수 (Top-K 방식)\n",
    "def compute_ap_at_k(probs, y_true, top_k):\n",
    "    # 상위 top_k개의 인덱스를 1로 예측하고 나머지는 0\n",
    "    top_k_indices = np.argsort(probs)[-top_k:]\n",
    "    preds = np.zeros_like(probs)\n",
    "    preds[top_k_indices] = 1\n",
    "\n",
    "    return average_precision_score(y_true, preds)\n",
    "\n",
    "# 예시: 각 Top-K에 대해 AP 점수 계산\n",
    "ap_1000 = compute_ap_at_k(probs=valid_probs, y_true=y_test.values, top_k=1000)\n",
    "ap_1500 = compute_ap_at_k(probs=valid_probs, y_true=y_test.values, top_k=1500)\n",
    "\n",
    "print(f\"📊 AP Score (Top-1000): {ap_1000:.5f}\")\n",
    "print(f\"📊 AP Score (Top-1500): {ap_1500:.5f}\")"
   ]
  },
  {
   "cell_type": "code",
   "execution_count": 381,
   "id": "26d75b03-59b0-436d-9b46-620a5248ca28",
   "metadata": {},
   "outputs": [
    {
     "name": "stdout",
     "output_type": "stream",
     "text": [
      "Top-500 → AP: 0.04841\n",
      "Top-600 → AP: 0.05139\n",
      "Top-700 → AP: 0.05452\n",
      "Top-800 → AP: 0.05641\n",
      "Top-900 → AP: 0.05907\n",
      "Top-1000 → AP: 0.05874\n",
      "Top-1100 → AP: 0.06156\n",
      "Top-1200 → AP: 0.06324\n",
      "Top-1300 → AP: 0.06277\n",
      "Top-1400 → AP: 0.06379\n",
      "Top-1500 → AP: 0.06594\n",
      "Top-1600 → AP: 0.06732\n",
      "Top-1700 → AP: 0.06696\n",
      "Top-1800 → AP: 0.06745\n",
      "Top-1900 → AP: 0.06871\n",
      "Top-2000 → AP: 0.06835\n",
      "Top-2100 → AP: 0.06830\n",
      "Top-2200 → AP: 0.06765\n",
      "Top-2300 → AP: 0.06795\n",
      "Top-2400 → AP: 0.06807\n",
      "Top-2500 → AP: 0.06845\n",
      "Top-2600 → AP: 0.06885\n",
      "Top-2700 → AP: 0.06888\n",
      "Top-2800 → AP: 0.06934\n",
      "Top-2900 → AP: 0.06923\n",
      "Top-3000 → AP: 0.07051\n",
      "Top-3100 → AP: 0.07064\n",
      "Top-3200 → AP: 0.07060\n",
      "Top-3300 → AP: 0.07190\n",
      "Top-3400 → AP: 0.07117\n",
      "Top-3500 → AP: 0.07066\n",
      "Top-3600 → AP: 0.07072\n",
      "Top-3700 → AP: 0.07133\n",
      "Top-3800 → AP: 0.07160\n",
      "Top-3900 → AP: 0.07137\n",
      "Top-4000 → AP: 0.07116\n",
      "Top-4100 → AP: 0.07131\n",
      "Top-4200 → AP: 0.07147\n",
      "Top-4300 → AP: 0.07132\n",
      "Top-4400 → AP: 0.07184\n",
      "Top-4500 → AP: 0.07171\n",
      "Top-4600 → AP: 0.07208\n",
      "Top-4700 → AP: 0.07167\n",
      "Top-4800 → AP: 0.07175\n",
      "Top-4900 → AP: 0.07246\n",
      "Top-5000 → AP: 0.07286\n"
     ]
    }
   ],
   "source": [
    "for top_k in range(500, 5001, 100):\n",
    "    idx = np.argsort(valid_probs)[-top_k:]\n",
    "    preds = np.zeros_like(valid_probs)\n",
    "    preds[idx] = 1\n",
    "    ap = average_precision_score(y_test, preds)\n",
    "    print(f\"Top-{top_k} → AP: {ap:.5f}\")"
   ]
  },
  {
   "cell_type": "code",
   "execution_count": 391,
   "id": "813e12e4-5096-49a0-aa07-88b9f02b5820",
   "metadata": {},
   "outputs": [
    {
     "name": "stdout",
     "output_type": "stream",
     "text": [
      "Epoch 1/50\n"
     ]
    },
    {
     "name": "stderr",
     "output_type": "stream",
     "text": [
      "/opt/anaconda3/lib/python3.12/site-packages/keras/src/layers/normalization/batch_normalization.py:142: UserWarning: Do not pass an `input_shape`/`input_dim` argument to a layer. When using Sequential models, prefer using an `Input(shape)` object as the first layer in the model instead.\n",
      "  super().__init__(**kwargs)\n"
     ]
    },
    {
     "name": "stdout",
     "output_type": "stream",
     "text": [
      "1087/1087 - 2s - 2ms/step - AUC: 0.6951 - loss: 0.0175 - val_AUC: 0.8682 - val_loss: 0.0043\n",
      "Epoch 2/50\n",
      "1087/1087 - 2s - 1ms/step - AUC: 0.8082 - loss: 0.0084 - val_AUC: 0.8712 - val_loss: 0.0042\n",
      "Epoch 3/50\n",
      "1087/1087 - 2s - 1ms/step - AUC: 0.8348 - loss: 0.0077 - val_AUC: 0.8756 - val_loss: 0.0041\n",
      "Epoch 4/50\n",
      "1087/1087 - 2s - 1ms/step - AUC: 0.8422 - loss: 0.0075 - val_AUC: 0.8777 - val_loss: 0.0041\n",
      "Epoch 5/50\n",
      "1087/1087 - 2s - 1ms/step - AUC: 0.8531 - loss: 0.0072 - val_AUC: 0.8798 - val_loss: 0.0041\n",
      "Epoch 6/50\n",
      "1087/1087 - 2s - 1ms/step - AUC: 0.8624 - loss: 0.0071 - val_AUC: 0.8811 - val_loss: 0.0041\n",
      "Epoch 7/50\n",
      "1087/1087 - 2s - 1ms/step - AUC: 0.8663 - loss: 0.0070 - val_AUC: 0.8819 - val_loss: 0.0041\n",
      "Epoch 8/50\n",
      "1087/1087 - 2s - 1ms/step - AUC: 0.8701 - loss: 0.0069 - val_AUC: 0.8845 - val_loss: 0.0041\n",
      "Epoch 9/50\n",
      "1087/1087 - 2s - 1ms/step - AUC: 0.8730 - loss: 0.0069 - val_AUC: 0.8842 - val_loss: 0.0041\n",
      "Epoch 10/50\n",
      "1087/1087 - 2s - 1ms/step - AUC: 0.8772 - loss: 0.0069 - val_AUC: 0.8866 - val_loss: 0.0041\n",
      "Epoch 11/50\n",
      "1087/1087 - 2s - 1ms/step - AUC: 0.8799 - loss: 0.0068 - val_AUC: 0.8864 - val_loss: 0.0040\n",
      "Epoch 12/50\n",
      "1087/1087 - 2s - 1ms/step - AUC: 0.8818 - loss: 0.0067 - val_AUC: 0.8885 - val_loss: 0.0040\n",
      "Epoch 13/50\n",
      "1087/1087 - 2s - 1ms/step - AUC: 0.8829 - loss: 0.0067 - val_AUC: 0.8869 - val_loss: 0.0041\n",
      "Epoch 14/50\n",
      "1087/1087 - 2s - 1ms/step - AUC: 0.8851 - loss: 0.0067 - val_AUC: 0.8863 - val_loss: 0.0040\n",
      "Epoch 15/50\n",
      "1087/1087 - 2s - 1ms/step - AUC: 0.8872 - loss: 0.0067 - val_AUC: 0.8859 - val_loss: 0.0041\n",
      "Epoch 16/50\n",
      "1087/1087 - 2s - 1ms/step - AUC: 0.8855 - loss: 0.0067 - val_AUC: 0.8860 - val_loss: 0.0041\n",
      "Epoch 17/50\n",
      "1087/1087 - 2s - 1ms/step - AUC: 0.8875 - loss: 0.0067 - val_AUC: 0.8866 - val_loss: 0.0041\n",
      "\u001b[1m4492/4492\u001b[0m \u001b[32m━━━━━━━━━━━━━━━━━━━━\u001b[0m\u001b[37m\u001b[0m \u001b[1m1s\u001b[0m 176us/step\n",
      "\n",
      "📈 Focal NN AP Score: 0.16990\n"
     ]
    }
   ],
   "source": [
    "import tensorflow as tf\n",
    "from tensorflow import keras\n",
    "from keras import backend as K\n",
    "from sklearn.metrics import average_precision_score\n",
    "\n",
    "# 1. Focal Loss 정의\n",
    "def focal_loss(gamma=2., alpha=0.25):\n",
    "    def focal_loss_fixed(y_true, y_pred):\n",
    "        epsilon = tf.keras.backend.epsilon()\n",
    "        y_pred = tf.clip_by_value(y_pred, epsilon, 1. - epsilon)\n",
    "        pt = tf.where(tf.equal(y_true, 1), y_pred, 1 - y_pred)\n",
    "        loss = -alpha * tf.math.pow(1. - pt, gamma) * tf.math.log(pt)\n",
    "        return tf.reduce_mean(loss)\n",
    "    return focal_loss_fixed\n",
    "\n",
    "# 2. 모델 구성\n",
    "nn_model = keras.Sequential([\n",
    "    keras.layers.BatchNormalization(input_shape=[X_train_scaled.shape[1]]),\n",
    "    keras.layers.Dense(128, activation='relu'),\n",
    "    keras.layers.Dropout(0.4),\n",
    "    keras.layers.BatchNormalization(),\n",
    "    keras.layers.Dense(64, activation='relu'),\n",
    "    keras.layers.Dropout(0.3),\n",
    "    keras.layers.BatchNormalization(),\n",
    "    keras.layers.Dense(32, activation='relu'),\n",
    "    keras.layers.Dropout(0.3),\n",
    "    keras.layers.Dense(1, activation='sigmoid')\n",
    "])\n",
    "\n",
    "# 3. 컴파일\n",
    "nn_model.compile(\n",
    "    optimizer=keras.optimizers.Adam(learning_rate=0.001),\n",
    "    loss=focal_loss(gamma=2.0, alpha=0.25),\n",
    "    metrics=[keras.metrics.AUC(name=\"AUC\")]\n",
    ")\n",
    "\n",
    "# 4. 훈련 (조기 종료 포함)\n",
    "early_stop = keras.callbacks.EarlyStopping(\n",
    "    patience=5, restore_best_weights=True, monitor=\"val_AUC\", mode=\"max\"\n",
    ")\n",
    "\n",
    "history = nn_model.fit(\n",
    "    X_train_scaled, y_train,\n",
    "    validation_data=(X_test_scaled, y_test),\n",
    "    epochs=50,\n",
    "    batch_size=512,\n",
    "    class_weight={0: 1, 1: 90},  # 불균형 보정\n",
    "    callbacks=[early_stop],\n",
    "    verbose=2\n",
    ")\n",
    "\n",
    "# 5. 검증 확률 예측\n",
    "val_probs = nn_model.predict(X_test_scaled).flatten()\n",
    "ap_score = average_precision_score(y_test, val_probs)\n",
    "\n",
    "print(f\"\\n📈 Focal NN AP Score: {ap_score:.5f}\")"
   ]
  },
  {
   "cell_type": "code",
   "execution_count": 385,
   "id": "9e5ec9cc-6d93-4146-b5c9-cda54362425a",
   "metadata": {},
   "outputs": [
    {
     "name": "stdout",
     "output_type": "stream",
     "text": [
      "Collecting tensorflow\n",
      "  Downloading tensorflow-2.19.0-cp312-cp312-macosx_12_0_arm64.whl.metadata (4.0 kB)\n",
      "Requirement already satisfied: absl-py>=1.0.0 in /opt/anaconda3/lib/python3.12/site-packages (from tensorflow) (2.2.2)\n",
      "Collecting astunparse>=1.6.0 (from tensorflow)\n",
      "  Downloading astunparse-1.6.3-py2.py3-none-any.whl.metadata (4.4 kB)\n",
      "Collecting flatbuffers>=24.3.25 (from tensorflow)\n",
      "  Downloading flatbuffers-25.2.10-py2.py3-none-any.whl.metadata (875 bytes)\n",
      "Collecting gast!=0.5.0,!=0.5.1,!=0.5.2,>=0.2.1 (from tensorflow)\n",
      "  Downloading gast-0.6.0-py3-none-any.whl.metadata (1.3 kB)\n",
      "Collecting google-pasta>=0.1.1 (from tensorflow)\n",
      "  Downloading google_pasta-0.2.0-py3-none-any.whl.metadata (814 bytes)\n",
      "Collecting libclang>=13.0.0 (from tensorflow)\n",
      "  Downloading libclang-18.1.1-1-py2.py3-none-macosx_11_0_arm64.whl.metadata (5.2 kB)\n",
      "Collecting opt-einsum>=2.3.2 (from tensorflow)\n",
      "  Downloading opt_einsum-3.4.0-py3-none-any.whl.metadata (6.3 kB)\n",
      "Requirement already satisfied: packaging in /opt/anaconda3/lib/python3.12/site-packages (from tensorflow) (24.1)\n",
      "Requirement already satisfied: protobuf!=4.21.0,!=4.21.1,!=4.21.2,!=4.21.3,!=4.21.4,!=4.21.5,<6.0.0dev,>=3.20.3 in /opt/anaconda3/lib/python3.12/site-packages (from tensorflow) (4.25.3)\n",
      "Requirement already satisfied: requests<3,>=2.21.0 in /opt/anaconda3/lib/python3.12/site-packages (from tensorflow) (2.32.3)\n",
      "Requirement already satisfied: setuptools in /opt/anaconda3/lib/python3.12/site-packages (from tensorflow) (75.1.0)\n",
      "Requirement already satisfied: six>=1.12.0 in /opt/anaconda3/lib/python3.12/site-packages (from tensorflow) (1.16.0)\n",
      "Collecting termcolor>=1.1.0 (from tensorflow)\n",
      "  Downloading termcolor-3.1.0-py3-none-any.whl.metadata (6.4 kB)\n",
      "Requirement already satisfied: typing-extensions>=3.6.6 in /opt/anaconda3/lib/python3.12/site-packages (from tensorflow) (4.11.0)\n",
      "Requirement already satisfied: wrapt>=1.11.0 in /opt/anaconda3/lib/python3.12/site-packages (from tensorflow) (1.14.1)\n",
      "Requirement already satisfied: grpcio<2.0,>=1.24.3 in /opt/anaconda3/lib/python3.12/site-packages (from tensorflow) (1.71.0)\n",
      "Requirement already satisfied: tensorboard~=2.19.0 in /opt/anaconda3/lib/python3.12/site-packages (from tensorflow) (2.19.0)\n",
      "Collecting keras>=3.5.0 (from tensorflow)\n",
      "  Downloading keras-3.9.2-py3-none-any.whl.metadata (6.1 kB)\n",
      "Requirement already satisfied: numpy<2.2.0,>=1.26.0 in /opt/anaconda3/lib/python3.12/site-packages (from tensorflow) (1.26.4)\n",
      "Requirement already satisfied: h5py>=3.11.0 in /opt/anaconda3/lib/python3.12/site-packages (from tensorflow) (3.11.0)\n",
      "Collecting ml-dtypes<1.0.0,>=0.5.1 (from tensorflow)\n",
      "  Downloading ml_dtypes-0.5.1-cp312-cp312-macosx_10_9_universal2.whl.metadata (21 kB)\n",
      "Requirement already satisfied: wheel<1.0,>=0.23.0 in /opt/anaconda3/lib/python3.12/site-packages (from astunparse>=1.6.0->tensorflow) (0.44.0)\n",
      "Requirement already satisfied: rich in /opt/anaconda3/lib/python3.12/site-packages (from keras>=3.5.0->tensorflow) (13.7.1)\n",
      "Collecting namex (from keras>=3.5.0->tensorflow)\n",
      "  Downloading namex-0.0.9-py3-none-any.whl.metadata (322 bytes)\n",
      "Collecting optree (from keras>=3.5.0->tensorflow)\n",
      "  Downloading optree-0.15.0-cp312-cp312-macosx_11_0_arm64.whl.metadata (48 kB)\n",
      "Requirement already satisfied: charset-normalizer<4,>=2 in /opt/anaconda3/lib/python3.12/site-packages (from requests<3,>=2.21.0->tensorflow) (3.3.2)\n",
      "Requirement already satisfied: idna<4,>=2.5 in /opt/anaconda3/lib/python3.12/site-packages (from requests<3,>=2.21.0->tensorflow) (3.7)\n",
      "Requirement already satisfied: urllib3<3,>=1.21.1 in /opt/anaconda3/lib/python3.12/site-packages (from requests<3,>=2.21.0->tensorflow) (2.2.3)\n",
      "Requirement already satisfied: certifi>=2017.4.17 in /opt/anaconda3/lib/python3.12/site-packages (from requests<3,>=2.21.0->tensorflow) (2025.1.31)\n",
      "Requirement already satisfied: markdown>=2.6.8 in /opt/anaconda3/lib/python3.12/site-packages (from tensorboard~=2.19.0->tensorflow) (3.4.1)\n",
      "Requirement already satisfied: tensorboard-data-server<0.8.0,>=0.7.0 in /opt/anaconda3/lib/python3.12/site-packages (from tensorboard~=2.19.0->tensorflow) (0.7.2)\n",
      "Requirement already satisfied: werkzeug>=1.0.1 in /opt/anaconda3/lib/python3.12/site-packages (from tensorboard~=2.19.0->tensorflow) (3.0.3)\n",
      "Requirement already satisfied: MarkupSafe>=2.1.1 in /opt/anaconda3/lib/python3.12/site-packages (from werkzeug>=1.0.1->tensorboard~=2.19.0->tensorflow) (2.1.3)\n",
      "Requirement already satisfied: markdown-it-py>=2.2.0 in /opt/anaconda3/lib/python3.12/site-packages (from rich->keras>=3.5.0->tensorflow) (2.2.0)\n",
      "Requirement already satisfied: pygments<3.0.0,>=2.13.0 in /opt/anaconda3/lib/python3.12/site-packages (from rich->keras>=3.5.0->tensorflow) (2.15.1)\n",
      "Requirement already satisfied: mdurl~=0.1 in /opt/anaconda3/lib/python3.12/site-packages (from markdown-it-py>=2.2.0->rich->keras>=3.5.0->tensorflow) (0.1.0)\n",
      "Downloading tensorflow-2.19.0-cp312-cp312-macosx_12_0_arm64.whl (252.7 MB)\n",
      "\u001b[2K   \u001b[90m━━━━━━━━━━━━━━━━━━━━━━━━━━━━━━━━━━━━━━━━\u001b[0m \u001b[32m252.7/252.7 MB\u001b[0m \u001b[31m28.5 MB/s\u001b[0m eta \u001b[36m0:00:00\u001b[0m00:01\u001b[0m00:01\u001b[0m\n",
      "\u001b[?25hDownloading astunparse-1.6.3-py2.py3-none-any.whl (12 kB)\n",
      "Downloading flatbuffers-25.2.10-py2.py3-none-any.whl (30 kB)\n",
      "Downloading gast-0.6.0-py3-none-any.whl (21 kB)\n",
      "Downloading google_pasta-0.2.0-py3-none-any.whl (57 kB)\n",
      "Downloading keras-3.9.2-py3-none-any.whl (1.3 MB)\n",
      "\u001b[2K   \u001b[90m━━━━━━━━━━━━━━━━━━━━━━━━━━━━━━━━━━━━━━━━\u001b[0m \u001b[32m1.3/1.3 MB\u001b[0m \u001b[31m28.8 MB/s\u001b[0m eta \u001b[36m0:00:00\u001b[0m\n",
      "\u001b[?25hDownloading libclang-18.1.1-1-py2.py3-none-macosx_11_0_arm64.whl (25.8 MB)\n",
      "\u001b[2K   \u001b[90m━━━━━━━━━━━━━━━━━━━━━━━━━━━━━━━━━━━━━━━━\u001b[0m \u001b[32m25.8/25.8 MB\u001b[0m \u001b[31m31.0 MB/s\u001b[0m eta \u001b[36m0:00:00\u001b[0m00:01\u001b[0m00:01\u001b[0m\n",
      "\u001b[?25hDownloading ml_dtypes-0.5.1-cp312-cp312-macosx_10_9_universal2.whl (670 kB)\n",
      "\u001b[2K   \u001b[90m━━━━━━━━━━━━━━━━━━━━━━━━━━━━━━━━━━━━━━━━\u001b[0m \u001b[32m670.4/670.4 kB\u001b[0m \u001b[31m20.6 MB/s\u001b[0m eta \u001b[36m0:00:00\u001b[0m\n",
      "\u001b[?25hDownloading opt_einsum-3.4.0-py3-none-any.whl (71 kB)\n",
      "Downloading termcolor-3.1.0-py3-none-any.whl (7.7 kB)\n",
      "Downloading namex-0.0.9-py3-none-any.whl (5.8 kB)\n",
      "Downloading optree-0.15.0-cp312-cp312-macosx_11_0_arm64.whl (342 kB)\n",
      "Installing collected packages: namex, libclang, flatbuffers, termcolor, optree, opt-einsum, ml-dtypes, google-pasta, gast, astunparse, keras, tensorflow\n",
      "Successfully installed astunparse-1.6.3 flatbuffers-25.2.10 gast-0.6.0 google-pasta-0.2.0 keras-3.9.2 libclang-18.1.1 ml-dtypes-0.5.1 namex-0.0.9 opt-einsum-3.4.0 optree-0.15.0 tensorflow-2.19.0 termcolor-3.1.0\n"
     ]
    }
   ],
   "source": [
    "!pip install tensorflow"
   ]
  },
  {
   "cell_type": "code",
   "execution_count": 393,
   "id": "df06ec3a-f0bd-4610-b7ed-b6668b776d42",
   "metadata": {},
   "outputs": [
    {
     "name": "stdout",
     "output_type": "stream",
     "text": [
      "\u001b[1m9375/9375\u001b[0m \u001b[32m━━━━━━━━━━━━━━━━━━━━\u001b[0m\u001b[37m\u001b[0m \u001b[1m2s\u001b[0m 172us/step\n"
     ]
    }
   ],
   "source": [
    "# 1. 확률 예측\n",
    "submit_probs = nn_model.predict(X_submit_scaled).flatten()\n",
    "\n",
    "# 2. submission 파일 생성 (확률 기반)\n",
    "submission_focal_nn = pd.DataFrame({\n",
    "    \"id\": test_ids,\n",
    "    \"fraud\": submit_probs\n",
    "})\n",
    "submission_focal_nn.to_csv(\"submission_focal_nn.csv\", index=False)"
   ]
  },
  {
   "cell_type": "code",
   "execution_count": null,
   "id": "0451a7a2-1668-4588-bd91-dc4c5f039e07",
   "metadata": {},
   "outputs": [],
   "source": []
  }
 ],
 "metadata": {
  "kernelspec": {
   "display_name": "Python [conda env:base] *",
   "language": "python",
   "name": "conda-base-py"
  },
  "language_info": {
   "codemirror_mode": {
    "name": "ipython",
    "version": 3
   },
   "file_extension": ".py",
   "mimetype": "text/x-python",
   "name": "python",
   "nbconvert_exporter": "python",
   "pygments_lexer": "ipython3",
   "version": "3.12.7"
  }
 },
 "nbformat": 4,
 "nbformat_minor": 5
}
