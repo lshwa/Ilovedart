{
 "cells": [
  {
   "cell_type": "code",
   "execution_count": 66,
   "id": "884d81f6-1197-4ad9-9d0e-eb896fec9571",
   "metadata": {},
   "outputs": [],
   "source": [
    "import matplotlib.pyplot as plt\n",
    "import matplotlib as mpl\n",
    "\n",
    "plt.rcParams['font.family'] = 'AppleGothic'\n",
    "mpl.rcParams['axes.unicode_minus'] = False"
   ]
  },
  {
   "cell_type": "code",
   "execution_count": 67,
   "id": "a5acc050-d039-4747-8ea2-3309585c564d",
   "metadata": {},
   "outputs": [],
   "source": [
    "import pandas as pd\n",
    "\n",
    "file_1 = pd.read_csv(\"train.csv\")\n",
    "file_2 = pd.read_csv(\"test.csv\")"
   ]
  },
  {
   "cell_type": "code",
   "execution_count": 119,
   "id": "8b2f5a8d-6080-46ff-9ae9-911459837f2e",
   "metadata": {
    "scrolled": true
   },
   "outputs": [
    {
     "data": {
      "text/plain": [
       "id                                       0\n",
       "bank_months_count                        0\n",
       "branch_application_count_8weeks          0\n",
       "credit_risk_score                        0\n",
       "current_address_months_count             0\n",
       "customer_age                             0\n",
       "date_of_birth_distinct_emails_4w         0\n",
       "days_since_request                       0\n",
       "device_distinct_emails_8w                0\n",
       "device_os                                0\n",
       "device_previously_fraudulent             0\n",
       "email_is_free                            0\n",
       "employment_status                        0\n",
       "foreign_request                          0\n",
       "has_other_cards                          0\n",
       "housing_status                           0\n",
       "income                                   0\n",
       "keep_alive_session                       0\n",
       "month                                    0\n",
       "name_email_similarity                    0\n",
       "payment_type                             0\n",
       "phone_home_valid                         0\n",
       "phone_mobile_valid                       0\n",
       "prev_address_months_count           498996\n",
       "requested_credit_limit                   0\n",
       "session_length_in_minutes                0\n",
       "source                                   0\n",
       "velocity_24h                             0\n",
       "velocity_4w                              0\n",
       "velocity_6h                              0\n",
       "zip_count_4w                             0\n",
       "fraud                                    0\n",
       "dtype: int64"
      ]
     },
     "execution_count": 119,
     "metadata": {},
     "output_type": "execute_result"
    }
   ],
   "source": [
    "file_1.isnull().sum()"
   ]
  },
  {
   "cell_type": "code",
   "execution_count": 69,
   "id": "71d59b78-a0cd-4a5b-9683-670dd68bde5e",
   "metadata": {},
   "outputs": [
    {
     "data": {
      "text/plain": [
       "id                                       0\n",
       "bank_months_count                    76034\n",
       "branch_application_count_8weeks          0\n",
       "credit_risk_score                        0\n",
       "current_address_months_count          1278\n",
       "customer_age                             0\n",
       "date_of_birth_distinct_emails_4w         0\n",
       "days_since_request                       0\n",
       "device_distinct_emails_8w              109\n",
       "device_os                                0\n",
       "device_previously_fraudulent             0\n",
       "email_is_free                            0\n",
       "employment_status                        0\n",
       "foreign_request                          0\n",
       "has_other_cards                          0\n",
       "housing_status                           0\n",
       "income                                   0\n",
       "initial_transfer_amount             222873\n",
       "keep_alive_session                       0\n",
       "month                                    0\n",
       "name_email_similarity                    0\n",
       "payment_type                             0\n",
       "phone_home_valid                         0\n",
       "phone_mobile_valid                       0\n",
       "prev_address_months_count           213924\n",
       "requested_credit_limit                   0\n",
       "session_length_in_minutes              601\n",
       "source                                   0\n",
       "velocity_24h                             0\n",
       "velocity_4w                              0\n",
       "velocity_6h                              0\n",
       "zip_count_4w                             0\n",
       "dtype: int64"
      ]
     },
     "execution_count": 69,
     "metadata": {},
     "output_type": "execute_result"
    }
   ],
   "source": [
    "file_2.isnull().sum()"
   ]
  },
  {
   "cell_type": "code",
   "execution_count": 70,
   "id": "7b0e7f36-e20a-457a-91e3-8b9189796d9d",
   "metadata": {},
   "outputs": [],
   "source": [
    "# 결측치 처리"
   ]
  },
  {
   "cell_type": "code",
   "execution_count": 71,
   "id": "ea728cd2-0e97-4be7-907a-264049263ea4",
   "metadata": {},
   "outputs": [],
   "source": [
    "# device_distinct_emails_8w\n",
    "# 크게 영향을 끼치지 않을 정도로 결측치 값이 너무 적음. \n",
    "# 주로 1과 2 중에서 최빈값인 1로 처리함."
   ]
  },
  {
   "cell_type": "code",
   "execution_count": 72,
   "id": "e1966c10-0843-4118-95d6-8db6b357dac1",
   "metadata": {},
   "outputs": [
    {
     "name": "stdout",
     "output_type": "stream",
     "text": [
      "                           device_distinct_emails_8w     fraud\n",
      "device_distinct_emails_8w                   1.000000  0.037704\n",
      "fraud                                       0.037704  1.000000\n"
     ]
    }
   ],
   "source": [
    "print(file_1[['device_distinct_emails_8w', 'fraud']].corr())"
   ]
  },
  {
   "cell_type": "code",
   "execution_count": 73,
   "id": "f2e4789f-b70d-47a6-850b-8df8cf58927d",
   "metadata": {},
   "outputs": [],
   "source": [
    "file_1['device_distinct_emails_8w'] = file_1['device_distinct_emails_8w'].fillna(1) # 최빈값인 1로 처리"
   ]
  },
  {
   "cell_type": "code",
   "execution_count": null,
   "id": "c2aca7c4-1e24-4608-b8dd-3e8e6c1be384",
   "metadata": {},
   "outputs": [],
   "source": []
  },
  {
   "cell_type": "code",
   "execution_count": 74,
   "id": "77250291-9934-48ef-9273-816c6c0c2fa7",
   "metadata": {},
   "outputs": [],
   "source": [
    "# session_length_in_minutes\n",
    "# 평균값으로 대체 "
   ]
  },
  {
   "cell_type": "code",
   "execution_count": 75,
   "id": "8f8dbdf8-eefb-4b24-bbd9-ae441924cf16",
   "metadata": {},
   "outputs": [
    {
     "name": "stdout",
     "output_type": "stream",
     "text": [
      "                           session_length_in_minutes     fraud\n",
      "session_length_in_minutes                   1.000000  0.009253\n",
      "fraud                                       0.009253  1.000000\n"
     ]
    }
   ],
   "source": [
    "print(file_1[['session_length_in_minutes', 'fraud']].corr())"
   ]
  },
  {
   "cell_type": "code",
   "execution_count": 76,
   "id": "80c5775f-03d2-4e5a-91ae-2eb6e7ad2729",
   "metadata": {},
   "outputs": [],
   "source": [
    "mean_val = file_1['session_length_in_minutes'].mean()\n",
    "file_1['session_length_in_minutes'] = file_1['session_length_in_minutes'].fillna(mean_val)"
   ]
  },
  {
   "cell_type": "code",
   "execution_count": null,
   "id": "c2569859-9776-43fd-ab62-230773eb387a",
   "metadata": {},
   "outputs": [],
   "source": []
  },
  {
   "cell_type": "code",
   "execution_count": 77,
   "id": "a409eb36-1ff7-402e-8982-66b1bab181a7",
   "metadata": {},
   "outputs": [],
   "source": [
    "# current_address_months_count  \n",
    "# 중앙값으로 대체"
   ]
  },
  {
   "cell_type": "code",
   "execution_count": 78,
   "id": "17a32d58-8d04-4491-86e2-e1975b4d7027",
   "metadata": {},
   "outputs": [
    {
     "name": "stdout",
     "output_type": "stream",
     "text": [
      "                              current_address_months_count     fraud\n",
      "current_address_months_count                      1.000000  0.033186\n",
      "fraud                                             0.033186  1.000000\n"
     ]
    }
   ],
   "source": [
    "print(file_1[['current_address_months_count', 'fraud']].corr())"
   ]
  },
  {
   "cell_type": "code",
   "execution_count": 79,
   "id": "247567bb-432e-4c98-9d80-5b465e4b04af",
   "metadata": {},
   "outputs": [],
   "source": [
    "mean_val = file_1['current_address_months_count'].mean()\n",
    "file_1['current_address_months_count'] = file_1['current_address_months_count'].fillna(mean_val)"
   ]
  },
  {
   "cell_type": "code",
   "execution_count": null,
   "id": "10ab2e02-27f3-4c0c-be6e-ff1b843d7244",
   "metadata": {},
   "outputs": [],
   "source": []
  },
  {
   "cell_type": "code",
   "execution_count": 124,
   "id": "b4227af8-b0df-4059-a0bd-3b201ba5529a",
   "metadata": {},
   "outputs": [],
   "source": [
    "# bank_months_count\n",
    "# 사기인 경우와 사기가 아닌 경우를 나누어, 평균, 표준편차를 구하여 조건부 랜덤 샘플링 기반 결측 대체 방벙블 사용함 "
   ]
  },
  {
   "cell_type": "code",
   "execution_count": 81,
   "id": "8d8d1cc1-b048-4334-9a20-336e8b83fc23",
   "metadata": {},
   "outputs": [
    {
     "name": "stdout",
     "output_type": "stream",
     "text": [
      "                   bank_months_count     fraud\n",
      "bank_months_count           1.000000  0.020829\n",
      "fraud                       0.020829  1.000000\n"
     ]
    }
   ],
   "source": [
    "print(file_1[['bank_months_count', 'fraud']].corr())"
   ]
  },
  {
   "cell_type": "code",
   "execution_count": 82,
   "id": "cf9fec8d-28de-4347-b686-83c3d339b178",
   "metadata": {},
   "outputs": [
    {
     "name": "stdout",
     "output_type": "stream",
     "text": [
      "사기인 경우 평균: 17.33\n",
      "사기가 아닌 경우 평균: 14.84\n"
     ]
    }
   ],
   "source": [
    "fraud_mean = file_1[file_1['fraud'] == 1]['bank_months_count'].mean()\n",
    "nonfraud_mean = file_1[file_1['fraud'] == 0]['bank_months_count'].mean()\n",
    "\n",
    "print(f\"사기인 경우 평균: {fraud_mean:.2f}\")\n",
    "print(f\"사기가 아닌 경우 평균: {nonfraud_mean:.2f}\")"
   ]
  },
  {
   "cell_type": "code",
   "execution_count": 83,
   "id": "ee1ce2d3-623e-4e21-a256-8695e296554f",
   "metadata": {},
   "outputs": [
    {
     "name": "stdout",
     "output_type": "stream",
     "text": [
      "사기인 경우 → 평균: 17.33, 표준편차: 11.84\n",
      "사기 아닌 경우 → 평균: 14.84, 표준편차: 11.52\n"
     ]
    }
   ],
   "source": [
    "fraud_stats = file_1[file_1['fraud'] == 1]['bank_months_count'].agg(['mean', 'std'])\n",
    "nonfraud_stats = file_1[file_1['fraud'] == 0]['bank_months_count'].agg(['mean', 'std'])\n",
    "\n",
    "print(f\"사기인 경우 → 평균: {fraud_stats['mean']:.2f}, 표준편차: {fraud_stats['std']:.2f}\")\n",
    "print(f\"사기 아닌 경우 → 평균: {nonfraud_stats['mean']:.2f}, 표준편차: {nonfraud_stats['std']:.2f}\")"
   ]
  },
  {
   "cell_type": "code",
   "execution_count": 111,
   "id": "ab2758a8-9357-478e-8d3a-272a904b31a7",
   "metadata": {},
   "outputs": [],
   "source": [
    "import numpy as np\n",
    "\n",
    "cond_missing = file_1['bank_months_count'].isna()\n",
    "\n",
    "# fraud==1 기준 평균±표준편차\n",
    "fraud_mean = 17.33\n",
    "fraud_std = 11.84\n",
    "\n",
    "# fraud==0 기준 평균±표준편차\n",
    "nonfraud_mean = 14.84\n",
    "nonfraud_std = 11.52\n",
    "\n",
    "# 랜덤 생성 함수\n",
    "def sample_from_normal(mean, std, size):\n",
    "    return np.clip(np.random.normal(mean, std, size), 0, None)\n",
    "\n",
    "# 사기인 경우\n",
    "fraud_mask = cond_missing & (file_1['fraud'] == 1)\n",
    "file_1.loc[fraud_mask, 'bank_months_count'] = sample_from_normal(fraud_mean, fraud_std, fraud_mask.sum())\n",
    "\n",
    "# 사기 아닌 경우\n",
    "nonfraud_mask = cond_missing & (file_1['fraud'] == 0)\n",
    "file_1.loc[nonfraud_mask, 'bank_months_count'] = sample_from_normal(nonfraud_mean, nonfraud_std, nonfraud_mask.sum())"
   ]
  },
  {
   "cell_type": "code",
   "execution_count": null,
   "id": "4946f259-d54a-448c-8540-25586f896d3b",
   "metadata": {},
   "outputs": [],
   "source": []
  },
  {
   "cell_type": "code",
   "execution_count": 84,
   "id": "648bf92b-5520-49c9-bfea-61cfe796e381",
   "metadata": {},
   "outputs": [],
   "source": [
    "# initial_transfer_amount\n",
    "# 결측치 너무 많아서 그냥 제거"
   ]
  },
  {
   "cell_type": "code",
   "execution_count": 85,
   "id": "36658413-6887-4b4d-9865-69f29eb21410",
   "metadata": {},
   "outputs": [
    {
     "name": "stdout",
     "output_type": "stream",
     "text": [
      "                         initial_transfer_amount     fraud\n",
      "initial_transfer_amount                 1.000000  0.014471\n",
      "fraud                                   0.014471  1.000000\n"
     ]
    }
   ],
   "source": [
    "print(file_1[['initial_transfer_amount', 'fraud']].corr())"
   ]
  },
  {
   "cell_type": "code",
   "execution_count": 117,
   "id": "98a0e816-d089-4173-85e4-f0bdca8c83fb",
   "metadata": {},
   "outputs": [],
   "source": [
    "file_1 = file_1.drop(columns=['initial_transfer_amount'])"
   ]
  },
  {
   "cell_type": "code",
   "execution_count": null,
   "id": "0af65bfa-4f7b-4ab7-9ddc-d6e59ddde0a2",
   "metadata": {},
   "outputs": [],
   "source": []
  },
  {
   "cell_type": "code",
   "execution_count": 122,
   "id": "305c9230-423a-446a-9a66-97436bf7bfb4",
   "metadata": {},
   "outputs": [],
   "source": [
    "# prev_address_months_count"
   ]
  },
  {
   "cell_type": "code",
   "execution_count": 126,
   "id": "d5a8b88e-d60e-4da2-bd8f-393d9b32953e",
   "metadata": {},
   "outputs": [
    {
     "name": "stdout",
     "output_type": "stream",
     "text": [
      "                           prev_address_months_count     fraud\n",
      "prev_address_months_count                   1.000000  0.021867\n",
      "fraud                                       0.021867  1.000000\n"
     ]
    }
   ],
   "source": [
    "print(file_1[['prev_address_months_count', 'fraud']].corr())"
   ]
  },
  {
   "cell_type": "code",
   "execution_count": null,
   "id": "1a760645-cc8d-4a93-b102-fb3e83a7ad1a",
   "metadata": {},
   "outputs": [],
   "source": []
  }
 ],
 "metadata": {
  "kernelspec": {
   "display_name": "Python [conda env:base] *",
   "language": "python",
   "name": "conda-base-py"
  },
  "language_info": {
   "codemirror_mode": {
    "name": "ipython",
    "version": 3
   },
   "file_extension": ".py",
   "mimetype": "text/x-python",
   "name": "python",
   "nbconvert_exporter": "python",
   "pygments_lexer": "ipython3",
   "version": "3.12.7"
  }
 },
 "nbformat": 4,
 "nbformat_minor": 5
}
